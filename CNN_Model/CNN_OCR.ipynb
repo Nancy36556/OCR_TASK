{
  "cells": [
    {
      "cell_type": "code",
      "execution_count": 4,
      "metadata": {
        "colab": {},
        "colab_type": "code",
        "id": "wOIeTHEgz3RM"
      },
      "outputs": [
        {
          "name": "stdout",
          "output_type": "stream",
          "text": [
            "Requirement already satisfied: imutils in c:\\users\\hp\\appdata\\local\\programs\\python\\python36\\lib\\site-packages (0.5.4)\n"
          ]
        },
        {
          "name": "stderr",
          "output_type": "stream",
          "text": [
            "WARNING: Ignoring invalid distribution -python (c:\\users\\hp\\appdata\\roaming\\python\\python36\\site-packages)\n",
            "WARNING: Ignoring invalid distribution -python (c:\\users\\hp\\appdata\\roaming\\python\\python36\\site-packages)\n",
            "WARNING: Ignoring invalid distribution -python (c:\\users\\hp\\appdata\\roaming\\python\\python36\\site-packages)\n",
            "WARNING: Ignoring invalid distribution -python (c:\\users\\hp\\appdata\\roaming\\python\\python36\\site-packages)\n",
            "WARNING: Ignoring invalid distribution -python (c:\\users\\hp\\appdata\\roaming\\python\\python36\\site-packages)\n"
          ]
        },
        {
          "name": "stdout",
          "output_type": "stream",
          "text": [
            "Requirement already satisfied: imgaug in c:\\users\\hp\\appdata\\local\\programs\\python\\python36\\lib\\site-packages (0.4.0)\n",
            "Requirement already satisfied: Shapely in c:\\users\\hp\\appdata\\local\\programs\\python\\python36\\lib\\site-packages (from imgaug) (1.8.5.post1)\n",
            "Requirement already satisfied: scipy in c:\\users\\hp\\appdata\\local\\programs\\python\\python36\\lib\\site-packages (from imgaug) (1.5.4)\n",
            "Requirement already satisfied: opencv-python in c:\\users\\hp\\appdata\\local\\programs\\python\\python36\\lib\\site-packages (from imgaug) (4.6.0.66)\n",
            "Requirement already satisfied: imageio in c:\\users\\hp\\appdata\\local\\programs\\python\\python36\\lib\\site-packages (from imgaug) (2.15.0)\n",
            "Requirement already satisfied: numpy>=1.15 in c:\\users\\hp\\appdata\\local\\programs\\python\\python36\\lib\\site-packages (from imgaug) (1.19.5)\n",
            "Requirement already satisfied: six in c:\\users\\hp\\appdata\\roaming\\python\\python36\\site-packages (from imgaug) (1.16.0)\n",
            "Requirement already satisfied: scikit-image>=0.14.2 in c:\\users\\hp\\appdata\\local\\programs\\python\\python36\\lib\\site-packages (from imgaug) (0.17.2)\n",
            "Requirement already satisfied: matplotlib in c:\\users\\hp\\appdata\\local\\programs\\python\\python36\\lib\\site-packages (from imgaug) (3.3.4)\n",
            "Requirement already satisfied: Pillow in c:\\users\\hp\\appdata\\local\\programs\\python\\python36\\lib\\site-packages (from imgaug) (8.4.0)\n",
            "Requirement already satisfied: PyWavelets>=1.1.1 in c:\\users\\hp\\appdata\\local\\programs\\python\\python36\\lib\\site-packages (from scikit-image>=0.14.2->imgaug) (1.1.1)\n",
            "Requirement already satisfied: tifffile>=2019.7.26 in c:\\users\\hp\\appdata\\local\\programs\\python\\python36\\lib\\site-packages (from scikit-image>=0.14.2->imgaug) (2020.9.3)\n",
            "Requirement already satisfied: networkx>=2.0 in c:\\users\\hp\\appdata\\local\\programs\\python\\python36\\lib\\site-packages (from scikit-image>=0.14.2->imgaug) (2.5.1)\n",
            "Requirement already satisfied: cycler>=0.10 in c:\\users\\hp\\appdata\\local\\programs\\python\\python36\\lib\\site-packages (from matplotlib->imgaug) (0.11.0)\n",
            "Requirement already satisfied: kiwisolver>=1.0.1 in c:\\users\\hp\\appdata\\local\\programs\\python\\python36\\lib\\site-packages (from matplotlib->imgaug) (1.3.1)\n",
            "Requirement already satisfied: python-dateutil>=2.1 in c:\\users\\hp\\appdata\\roaming\\python\\python36\\site-packages (from matplotlib->imgaug) (2.8.2)\n",
            "Requirement already satisfied: pyparsing!=2.0.4,!=2.1.2,!=2.1.6,>=2.0.3 in c:\\users\\hp\\appdata\\local\\programs\\python\\python36\\lib\\site-packages (from matplotlib->imgaug) (3.0.7)\n",
            "Requirement already satisfied: decorator<5,>=4.3 in c:\\users\\hp\\appdata\\local\\programs\\python\\python36\\lib\\site-packages (from networkx>=2.0->scikit-image>=0.14.2->imgaug) (4.4.2)\n"
          ]
        },
        {
          "name": "stderr",
          "output_type": "stream",
          "text": [
            "WARNING: Ignoring invalid distribution -python (c:\\users\\hp\\appdata\\roaming\\python\\python36\\site-packages)\n",
            "WARNING: Ignoring invalid distribution -python (c:\\users\\hp\\appdata\\roaming\\python\\python36\\site-packages)\n",
            "WARNING: Ignoring invalid distribution -python (c:\\users\\hp\\appdata\\roaming\\python\\python36\\site-packages)\n",
            "WARNING: Ignoring invalid distribution -python (c:\\users\\hp\\appdata\\roaming\\python\\python36\\site-packages)\n",
            "WARNING: Ignoring invalid distribution -python (c:\\users\\hp\\appdata\\roaming\\python\\python36\\site-packages)\n"
          ]
        }
      ],
      "source": [
        "# installing libs\n",
        "\n",
        "!pip install imutils\n",
        "!pip install imgaug"
      ]
    },
    {
      "cell_type": "code",
      "execution_count": 5,
      "metadata": {
        "colab": {},
        "colab_type": "code",
        "id": "7XtbyHBYzUFq"
      },
      "outputs": [
        {
          "name": "stderr",
          "output_type": "stream",
          "text": [
            "'ls' is not recognized as an internal or external command,\n",
            "operable program or batch file.\n",
            "'rm' is not recognized as an internal or external command,\n",
            "operable program or batch file.\n",
            "'ls' is not recognized as an internal or external command,\n",
            "operable program or batch file.\n"
          ]
        }
      ],
      "source": [
        "# this code help us to reupdate get repo. over existed one \n",
        "!ls\n",
        "!rm -r Google-Colaboratory-datasets\n",
        "!ls"
      ]
    },
    {
      "cell_type": "code",
      "execution_count": 6,
      "metadata": {
        "colab": {
          "base_uri": "https://localhost:8080/",
          "height": 34
        },
        "colab_type": "code",
        "id": "iKp7msJarrR-",
        "outputId": "4619d975-722a-4d01-f524-9d9a2385291c"
      },
      "outputs": [
        {
          "name": "stdout",
          "output_type": "stream",
          "text": [
            "^C\n"
          ]
        },
        {
          "name": "stderr",
          "output_type": "stream",
          "text": [
            "Cloning into 'Google-Colaboratory-datasets'...\n",
            "Updating files:   6% (1725/24806)\n",
            "Updating files:   7% (1737/24806)\n",
            "Updating files:   8% (1985/24806)\n",
            "Updating files:   9% (2233/24806)\n",
            "Updating files:  10% (2481/24806)\n",
            "Updating files:  11% (2729/24806)\n",
            "Updating files:  12% (2977/24806)\n",
            "Updating files:  13% (3225/24806)\n",
            "Updating files:  13% (3263/24806)\n",
            "Updating files:  14% (3473/24806)\n",
            "Updating files:  15% (3721/24806)\n",
            "Updating files:  16% (3969/24806)\n",
            "Updating files:  17% (4218/24806)\n",
            "Updating files:  18% (4466/24806)\n",
            "Updating files:  18% (4562/24806)\n",
            "Updating files:  19% (4714/24806)\n",
            "Updating files:  20% (4962/24806)\n",
            "Updating files:  21% (5210/24806)\n",
            "Updating files:  22% (5458/24806)\n",
            "Updating files:  22% (5524/24806)\n",
            "Updating files:  23% (5706/24806)\n",
            "Updating files:  24% (5954/24806)\n",
            "Updating files:  25% (6202/24806)\n",
            "Updating files:  26% (6450/24806)\n",
            "Updating files:  27% (6698/24806)\n",
            "Updating files:  28% (6946/24806)\n",
            "Updating files:  28% (6976/24806)\n",
            "Updating files:  29% (7194/24806)\n",
            "Updating files:  30% (7442/24806)\n",
            "Updating files:  31% (7690/24806)\n",
            "Updating files:  32% (7938/24806)\n",
            "Updating files:  33% (8186/24806)\n",
            "Updating files:  34% (8435/24806)\n",
            "Updating files:  35% (8683/24806)\n",
            "Updating files:  35% (8781/24806)\n",
            "Updating files:  36% (8931/24806)\n",
            "Updating files:  37% (9179/24806)\n",
            "Updating files:  38% (9427/24806)\n",
            "Updating files:  39% (9675/24806)\n",
            "Updating files:  40% (9923/24806)\n",
            "Updating files:  41% (10171/24806)\n",
            "Updating files:  42% (10419/24806)\n",
            "Updating files:  42% (10442/24806)\n",
            "Updating files:  43% (10667/24806)\n",
            "Updating files:  44% (10915/24806)\n",
            "Updating files:  45% (11163/24806)\n",
            "Updating files:  46% (11411/24806)\n",
            "Updating files:  46% (11540/24806)\n",
            "Updating files:  47% (11659/24806)\n",
            "Updating files:  48% (11907/24806)\n",
            "Updating files:  49% (12155/24806)\n",
            "Updating files:  49% (12275/24806)\n",
            "Updating files:  50% (12403/24806)\n",
            "Updating files:  51% (12652/24806)\n",
            "Updating files:  52% (12900/24806)\n",
            "Updating files:  53% (13148/24806)\n",
            "Updating files:  53% (13365/24806)\n",
            "Updating files:  54% (13396/24806)\n",
            "Updating files:  55% (13644/24806)\n",
            "Updating files:  56% (13892/24806)\n",
            "Updating files:  57% (14140/24806)\n",
            "Updating files:  57% (14340/24806)\n",
            "Updating files:  58% (14388/24806)\n",
            "Updating files:  59% (14636/24806)\n",
            "Updating files:  60% (14884/24806)\n",
            "Updating files:  60% (15053/24806)\n",
            "Updating files:  61% (15132/24806)\n",
            "Updating files:  62% (15380/24806)\n",
            "Updating files:  63% (15628/24806)\n",
            "Updating files:  64% (15876/24806)\n",
            "Updating files:  65% (16124/24806)\n",
            "Updating files:  66% (16372/24806)\n",
            "Updating files:  66% (16500/24806)\n",
            "Updating files:  67% (16621/24806)\n",
            "Updating files:  68% (16869/24806)\n",
            "Updating files:  69% (17117/24806)\n",
            "Updating files:  70% (17365/24806)\n",
            "Updating files:  71% (17613/24806)\n",
            "Updating files:  71% (17789/24806)\n",
            "Updating files:  72% (17861/24806)\n",
            "Updating files:  73% (18109/24806)\n",
            "Updating files:  74% (18357/24806)\n",
            "Updating files:  75% (18605/24806)\n",
            "Updating files:  75% (18631/24806)\n",
            "Updating files:  76% (18853/24806)\n",
            "Updating files:  77% (19101/24806)\n",
            "Updating files:  78% (19349/24806)\n",
            "Updating files:  78% (19545/24806)\n",
            "Updating files:  79% (19597/24806)\n",
            "Updating files:  80% (19845/24806)\n",
            "Updating files:  81% (20093/24806)\n",
            "Updating files:  82% (20341/24806)\n",
            "Updating files:  83% (20589/24806)\n",
            "Updating files:  84% (20838/24806)\n",
            "Updating files:  85% (21086/24806)\n",
            "Updating files:  85% (21130/24806)\n",
            "Updating files:  86% (21334/24806)\n",
            "Updating files:  87% (21582/24806)\n",
            "Updating files:  88% (21830/24806)\n",
            "Updating files:  89% (22078/24806)\n",
            "Updating files:  89% (22152/24806)\n",
            "Updating files:  90% (22326/24806)\n",
            "Updating files:  91% (22574/24806)\n",
            "Updating files:  92% (22822/24806)\n",
            "Updating files:  92% (22986/24806)\n",
            "Updating files:  93% (23070/24806)\n",
            "Updating files:  94% (23318/24806)\n",
            "Updating files:  95% (23566/24806)\n",
            "Updating files:  96% (23814/24806)\n",
            "Updating files:  97% (24062/24806)\n",
            "Updating files:  97% (24257/24806)\n",
            "Updating files:  98% (24310/24806)\n",
            "Updating files:  99% (24558/24806)\n",
            "Updating files: 100% (24806/24806)\n",
            "Updating files: 100% (24806/24806), done.\n"
          ]
        }
      ],
      "source": [
        "# cloning the dataset to work on it and do augmentation process on it  \n",
        "!git clone https://github.com/Rawash/Google-Colaboratory-datasets.git"
      ]
    },
    {
      "cell_type": "code",
      "execution_count": null,
      "metadata": {
        "colab": {
          "base_uri": "https://localhost:8080/",
          "height": 34
        },
        "colab_type": "code",
        "id": "gcoQ94Q9_1jM",
        "outputId": "accecb9d-921b-4661-b54e-2024847dd0e0"
      },
      "outputs": [
        {
          "name": "stderr",
          "output_type": "stream",
          "text": [
            "Using TensorFlow backend.\n"
          ]
        }
      ],
      "source": [
        "from keras.layers import Conv2D, MaxPooling2D, GlobalAveragePooling2D\n",
        "from keras.layers import Dropout, Flatten, Dense,BatchNormalization\n",
        "from keras.models import Sequential\n",
        "from keras.preprocessing.image import ImageDataGenerator\n",
        "from keras import backend as K\n",
        "from keras.utils import to_categorical\n",
        "\n",
        "import numpy as np\n",
        "import cv2\n",
        "import glob\n",
        "import matplotlib.pyplot as plt\n",
        "from sklearn.model_selection import train_test_split\n",
        "\n",
        "import imgaug as ia\n",
        "from imgaug import augmenters as iaa\n",
        "import imutils\n",
        "\n",
        "input_shape = 64 \n",
        "no_classes = 10\n",
        "\n"
      ]
    },
    {
      "cell_type": "markdown",
      "metadata": {},
      "source": [
        "# Dataset augmentation"
      ]
    },
    {
      "cell_type": "code",
      "execution_count": null,
      "metadata": {
        "colab": {},
        "colab_type": "code",
        "id": "kNreZi-ZmIti"
      },
      "outputs": [],
      "source": [
        "\n",
        "seq = iaa.Sequential([\n",
        "    iaa.Noop(), # horizontal flips\n",
        "    iaa.GaussianBlur(sigma=(0, 3)),# gaussian blur \n",
        "    iaa.Sometimes(0.5,\n",
        "\n",
        "      iaa.Affine(\n",
        "        rotate=(-5, 5),\n",
        "        )\n",
        "    ),\n",
        "    iaa.Multiply((0.2,2)),\n",
        "    # Strengthen or weaken the contrast in each image.\n",
        "    iaa.ContrastNormalization((0.5, 1.5)),\n",
        "    # Add gaussian noise.\n",
        "    iaa.AdditiveGaussianNoise(loc=0, scale=(0.0, 0.02*255), per_channel=0.2),\n",
        "    # Make some images brighter and some darker.\n",
        "    iaa.Affine(\n",
        "        scale={\"x\": (1, 1.7), \"y\": (1, 1.7)},\n",
        "    )\n",
        "], random_order=True) "
      ]
    },
    {
      "cell_type": "markdown",
      "metadata": {},
      "source": [
        "# dataset prebaration"
      ]
    },
    {
      "cell_type": "code",
      "execution_count": null,
      "metadata": {
        "colab": {
          "base_uri": "https://localhost:8080/",
          "height": 34
        },
        "colab_type": "code",
        "id": "qFHboT0y_1Xu",
        "outputId": "1548a505-5784-4418-f323-23e4c87d61a1"
      },
      "outputs": [
        {
          "name": "stdout",
          "output_type": "stream",
          "text": [
            "collecting dataset\n"
          ]
        }
      ],
      "source": [
        "numbersPath = glob.glob('E:/OCR_Task/OCR/dataset/data1')\n",
        "\n",
        "stack =[]\n",
        "def blure(image):\n",
        "    img = cv2.imread(image,0)\n",
        "    className = image.split('/')[-2][-1]\n",
        "    stack.append([img,className]) \n",
        "\n",
        "list(map(blure,numbersPath))\n",
        "X = [item[0] for item in stack]\n",
        "Y = [item[1] for item in stack]\n",
        "newX = []\n",
        "newY = []\n",
        "for i in range(15):\n",
        "  augImages = seq.augment_images(X)\n",
        "  for indx , n in enumerate(augImages):\n",
        "      newX.append(n)\n",
        "      newY.append(Y[indx])\n",
        "\n",
        "for indx , n in enumerate(X):\n",
        "    newX.append(n)\n",
        "    newY.append(Y[indx])"
      ]
    },
    {
      "cell_type": "markdown",
      "metadata": {},
      "source": [
        "# train_test_split"
      ]
    },
    {
      "cell_type": "code",
      "execution_count": null,
      "metadata": {
        "colab": {
          "base_uri": "https://localhost:8080/",
          "height": 34
        },
        "colab_type": "code",
        "id": "NmPw2_QrCM9T",
        "outputId": "c0632a5b-a7bb-48aa-8585-0f55c0e654e8"
      },
      "outputs": [
        {
          "name": "stdout",
          "output_type": "stream",
          "text": [
            "dataset gethering finished , the trained is :  297600\n"
          ]
        }
      ],
      "source": [
        "X_train, X_test, y_train, y_test = train_test_split(np.array(newX), np.array(newY), test_size=0.25, random_state=42)\n",
        "\n",
        "print('dataset gethering finished , the trained is : ',len(X_train))\n",
        "\n",
        "\n",
        "# reshape for gray channel to (n, 64, 64, 1)\n",
        "X_train = X_train.reshape(X_train.shape[0], input_shape, input_shape, 1)\n",
        "X_test = X_test.reshape(X_test.shape[0], input_shape, input_shape, 1)"
      ]
    },
    {
      "cell_type": "code",
      "execution_count": null,
      "metadata": {
        "colab": {
          "base_uri": "https://localhost:8080/",
          "height": 34
        },
        "colab_type": "code",
        "id": "IcKbm5yXEO6g",
        "outputId": "3528da6f-768c-4c20-e581-bf01f32bcd10"
      },
      "outputs": [
        {
          "name": "stdout",
          "output_type": "stream",
          "text": [
            "(297600, 64, 64, 1)\n"
          ]
        }
      ],
      "source": [
        "print(X_train.shape)"
      ]
    },
    {
      "cell_type": "markdown",
      "metadata": {},
      "source": [
        "# build_model"
      ]
    },
    {
      "cell_type": "code",
      "execution_count": null,
      "metadata": {
        "colab": {
          "base_uri": "https://localhost:8080/",
          "height": 731
        },
        "colab_type": "code",
        "id": "fyPLVlmi_9jZ",
        "outputId": "4e791cdb-8c57-4424-c6c9-3cc8572b7c95"
      },
      "outputs": [
        {
          "name": "stdout",
          "output_type": "stream",
          "text": [
            "model Init start\n",
            "_________________________________________________________________\n",
            "Layer (type)                 Output Shape              Param #   \n",
            "=================================================================\n",
            "conv2d_1 (Conv2D)            (None, 62, 62, 32)        320       \n",
            "_________________________________________________________________\n",
            "max_pooling2d_1 (MaxPooling2 (None, 31, 31, 32)        0         \n",
            "_________________________________________________________________\n",
            "conv2d_2 (Conv2D)            (None, 29, 29, 64)        18496     \n",
            "_________________________________________________________________\n",
            "max_pooling2d_2 (MaxPooling2 (None, 14, 14, 64)        0         \n",
            "_________________________________________________________________\n",
            "conv2d_3 (Conv2D)            (None, 12, 12, 128)       73856     \n",
            "_________________________________________________________________\n",
            "max_pooling2d_3 (MaxPooling2 (None, 6, 6, 128)         0         \n",
            "_________________________________________________________________\n",
            "flatten_1 (Flatten)          (None, 4608)              0         \n",
            "_________________________________________________________________\n",
            "dense_1 (Dense)              (None, 500)               2304500   \n",
            "_________________________________________________________________\n",
            "batch_normalization_1 (Batch (None, 500)               2000      \n",
            "_________________________________________________________________\n",
            "dropout_1 (Dropout)          (None, 500)               0         \n",
            "_________________________________________________________________\n",
            "dense_2 (Dense)              (None, 250)               125250    \n",
            "_________________________________________________________________\n",
            "batch_normalization_2 (Batch (None, 250)               1000      \n",
            "_________________________________________________________________\n",
            "dropout_2 (Dropout)          (None, 250)               0         \n",
            "_________________________________________________________________\n",
            "dense_3 (Dense)              (None, 100)               25100     \n",
            "_________________________________________________________________\n",
            "batch_normalization_3 (Batch (None, 100)               400       \n",
            "_________________________________________________________________\n",
            "dropout_3 (Dropout)          (None, 100)               0         \n",
            "_________________________________________________________________\n",
            "dense_4 (Dense)              (None, 10)                1010      \n",
            "=================================================================\n",
            "Total params: 2,551,932\n",
            "Trainable params: 2,550,232\n",
            "Non-trainable params: 1,700\n",
            "_________________________________________________________________\n"
          ]
        }
      ],
      "source": [
        "print('model Init start')\n",
        "model = Sequential()\n",
        "model.add(Conv2D(32,(3,3),strides=1,input_shape=(input_shape,input_shape,1),activation='relu'))\n",
        "model.add(MaxPooling2D(pool_size=(2,2)))        \n",
        "model.add(Conv2D(64,(3,3)),input_shape=(ib nput_shape,input_shape,1),activation='relu')\n",
        "model.add(MaxPooling2D(pool_size=(2,2)))\n",
        "model.add(Conv2D(128,(3,3),input_shape=(input_shape,input_shape,1),activation='relu'))\n",
        "model.add(MaxPooling2D(pool_size=(2,2)))\n",
        "model.add(Flatten())\n",
        "model.add(Dense(units=500,activation='relu'))\n",
        "model.add(BatchNormalization())\n",
        "model.add(Dropout(0.4))\n",
        "model.add(Dense(units = 250, activation = 'relu'))\n",
        "model.add(BatchNormalization())\n",
        "model.add(Dropout(0.4))\n",
        "model.add(Dense(units = 100, activation = 'relu'))\n",
        "model.add(BatchNormalization())\n",
        "model.add(Dropout(0.4))\n",
        "model.add(Dense(units = no_classes, activation = 'softmax'))\n",
        "model.summary()\n"
      ]
    },
    {
      "cell_type": "markdown",
      "metadata": {},
      "source": [
        "# model compilation "
      ]
    },
    {
      "cell_type": "code",
      "execution_count": null,
      "metadata": {
        "colab": {
          "base_uri": "https://localhost:8080/",
          "height": 51
        },
        "colab_type": "code",
        "id": "5kIFQ-d1ABdK",
        "outputId": "ea12d298-9ef3-4d82-ebed-5b2e950fe850"
      },
      "outputs": [
        {
          "name": "stdout",
          "output_type": "stream",
          "text": [
            "compilation start\n",
            "compilation ended\n"
          ]
        }
      ],
      "source": [
        "model.compile(optimizer = 'adam', loss = 'sparse_categorical_crossentropy', metrics = ['accuracy'])"
      ]
    },
    {
      "cell_type": "code",
      "execution_count": null,
      "metadata": {
        "colab": {
          "base_uri": "https://localhost:8080/",
          "height": 479
        },
        "colab_type": "code",
        "id": "M9PEDom1AGAp",
        "outputId": "fa771735-98d4-488b-846d-87f56c747fe6"
      },
      "outputs": [
        {
          "name": "stdout",
          "output_type": "stream",
          "text": [
            "image augmantation process\n"
          ]
        },
        {
          "name": "stderr",
          "output_type": "stream",
          "text": [
            "/usr/local/lib/python3.6/dist-packages/keras/preprocessing/image.py:645: UserWarning: This ImageDataGenerator specifies `zca_whitening`, which overrides setting of `featurewise_center`.\n",
            "  warnings.warn('This ImageDataGenerator specifies '\n"
          ]
        },
        {
          "name": "stdout",
          "output_type": "stream",
          "text": [
            "image augmantation process ended\n",
            "Epoch 1/45\n"
          ]
        },
        {
          "name": "stderr",
          "output_type": "stream",
          "text": [
            "/usr/local/lib/python3.6/dist-packages/keras/preprocessing/image.py:799: UserWarning: This ImageDataGenerator specifies `featurewise_center`, but it hasn't been fit on any training data. Fit it first by calling `.fit(numpy_data)`.\n",
            "  warnings.warn('This ImageDataGenerator specifies '\n",
            "/usr/local/lib/python3.6/dist-packages/keras/preprocessing/image.py:817: UserWarning: This ImageDataGenerator specifies `zca_whitening`, but it hasn't been fit on any training data. Fit it first by calling `.fit(numpy_data)`.\n",
            "  warnings.warn('This ImageDataGenerator specifies '\n"
          ]
        },
        {
          "name": "stdout",
          "output_type": "stream",
          "text": [
            "2975/2976 [============================>.] - ETA: 0s - loss: 0.1767 - acc: 0.9450"
          ]
        },
        {
          "name": "stdout",
          "output_type": "stream",
          "text": [
            "2976/2976 [==============================] - 267s 90ms/step - loss: 0.1767 - acc: 0.9450 - val_loss: 0.0475 - val_acc: 0.9828\n",
            "Epoch 2/45\n",
            " 452/2976 [===>..........................] - ETA: 3:25 - loss: 0.0670 - acc: 0.9788"
          ]
        },
        {
          "name": "stdout",
          "output_type": "stream",
          "text": [
            "2975/2976 [============================>.] - ETA: 0s - loss: 0.0602 - acc: 0.9809"
          ]
        },
        {
          "name": "stdout",
          "output_type": "stream",
          "text": [
            "2976/2976 [==============================] - 264s 89ms/step - loss: 0.0602 - acc: 0.9809 - val_loss: 0.0411 - val_acc: 0.9850\n",
            "Epoch 3/45\n",
            " 453/2976 [===>..........................] - ETA: 3:26 - loss: 0.0558 - acc: 0.9819"
          ]
        },
        {
          "name": "stdout",
          "output_type": "stream",
          "text": [
            "2975/2976 [============================>.] - ETA: 0s - loss: 0.0516 - acc: 0.9830"
          ]
        },
        {
          "name": "stdout",
          "output_type": "stream",
          "text": [
            "2976/2976 [==============================] - 265s 89ms/step - loss: 0.0516 - acc: 0.9830 - val_loss: 0.0359 - val_acc: 0.9869\n",
            "Epoch 4/45\n",
            " 452/2976 [===>..........................] - ETA: 3:28 - loss: 0.0440 - acc: 0.9850"
          ]
        },
        {
          "name": "stdout",
          "output_type": "stream",
          "text": [
            "2975/2976 [============================>.] - ETA: 0s - loss: 0.0470 - acc: 0.9842"
          ]
        },
        {
          "name": "stdout",
          "output_type": "stream",
          "text": [
            "2976/2976 [==============================] - 263s 88ms/step - loss: 0.0470 - acc: 0.9842 - val_loss: 0.0390 - val_acc: 0.9863\n",
            "Epoch 5/45\n",
            " 452/2976 [===>..........................] - ETA: 3:25 - loss: 0.0478 - acc: 0.9840"
          ]
        },
        {
          "name": "stdout",
          "output_type": "stream",
          "text": [
            "2975/2976 [============================>.] - ETA: 0s - loss: 0.0443 - acc: 0.9851"
          ]
        },
        {
          "name": "stdout",
          "output_type": "stream",
          "text": [
            "2976/2976 [==============================] - 263s 88ms/step - loss: 0.0443 - acc: 0.9851 - val_loss: 0.0381 - val_acc: 0.9859\n",
            "Epoch 6/45\n",
            " 450/2976 [===>..........................] - ETA: 3:27 - loss: 0.0460 - acc: 0.9848"
          ]
        },
        {
          "name": "stdout",
          "output_type": "stream",
          "text": [
            "2975/2976 [============================>.] - ETA: 0s - loss: 0.0427 - acc: 0.9855"
          ]
        },
        {
          "name": "stdout",
          "output_type": "stream",
          "text": [
            "2976/2976 [==============================] - 266s 89ms/step - loss: 0.0427 - acc: 0.9855 - val_loss: 0.0329 - val_acc: 0.9878\n",
            "Epoch 7/45\n",
            " 450/2976 [===>..........................] - ETA: 3:28 - loss: 0.0382 - acc: 0.9864"
          ]
        },
        {
          "name": "stdout",
          "output_type": "stream",
          "text": [
            "2975/2976 [============================>.] - ETA: 0s - loss: 0.0412 - acc: 0.9857"
          ]
        },
        {
          "name": "stdout",
          "output_type": "stream",
          "text": [
            "2976/2976 [==============================] - 266s 89ms/step - loss: 0.0412 - acc: 0.9857 - val_loss: 0.0339 - val_acc: 0.9873\n",
            "Epoch 8/45\n",
            " 453/2976 [===>..........................] - ETA: 3:27 - loss: 0.0398 - acc: 0.9861"
          ]
        },
        {
          "name": "stdout",
          "output_type": "stream",
          "text": [
            "2975/2976 [============================>.] - ETA: 0s - loss: 0.0394 - acc: 0.9863"
          ]
        },
        {
          "name": "stdout",
          "output_type": "stream",
          "text": [
            "2976/2976 [==============================] - 265s 89ms/step - loss: 0.0394 - acc: 0.9863 - val_loss: 0.0322 - val_acc: 0.9878\n",
            "Epoch 9/45\n",
            " 452/2976 [===>..........................] - ETA: 3:26 - loss: 0.0400 - acc: 0.9860"
          ]
        },
        {
          "name": "stdout",
          "output_type": "stream",
          "text": [
            "1389/2976 [=============>................] - ETA: 2:11 - loss: 0.0395 - acc: 0.9863"
          ]
        }
      ],
      "source": [
        "\n",
        "print('image augmantation process')\n",
        "\n",
        "parametars = dict(rescale = 1./255,\n",
        "              zca_whitening = True,\n",
        "              width_shift_range=0.3,\n",
        "              shear_range = 0.3,\n",
        "              zoom_range = 0.35,\n",
        "              validation_split=0.2,\n",
        "             )\n",
        "\n",
        "train_datagen = ImageDataGenerator(**parametars)\n",
        "\n",
        "validation_datagen = ImageDataGenerator(**parametars)\n",
        "\n",
        "\n",
        "validation_set = validation_datagen.flow(X_test, y_test,\n",
        "                                            batch_size = 100)\n",
        "training_set = train_datagen.flow(X_train, y_train, batch_size = 100)\n",
        "\n",
        "print('image augmantation process ended')\n",
        "\n",
        "model.fit_generator(training_set,\n",
        "                     steps_per_epoch=len(X_train) / 100,\n",
        "                     epochs=45,\n",
        "                     validation_data = validation_set,\n",
        "                     validation_steps = 300)\n",
        "\n",
        "# train_datagen.fit(images, augment=True, seed=seed)\n",
        "print('model started saving your prediction model')"
      ]
    },
    {
      "cell_type": "markdown",
      "metadata": {},
      "source": [
        "# save model"
      ]
    },
    {
      "cell_type": "code",
      "execution_count": null,
      "metadata": {
        "colab": {
          "base_uri": "https://localhost:8080/",
          "height": 51
        },
        "colab_type": "code",
        "id": "4PX6rJtzAV1Q",
        "outputId": "513be1ec-253a-4ea4-c32b-b4228fed59bd"
      },
      "outputs": [],
      "source": [
        "# model started saving your prediction model\n",
        "print('model started saving your prediction model')\n",
        "model.save('CNN_OCR.h5')\n",
        "print('conguratolations you are free to use the classifier :)')"
      ]
    }
  ],
  "metadata": {
    "accelerator": "GPU",
    "colab": {
      "collapsed_sections": [],
      "name": "Copy of v6-NID_number_extraction_process.ipynb",
      "provenance": [],
      "version": "0.3.2"
    },
    "kernelspec": {
      "display_name": "Python 3",
      "name": "python3"
    },
    "language_info": {
      "codemirror_mode": {
        "name": "ipython",
        "version": 3
      },
      "file_extension": ".py",
      "mimetype": "text/x-python",
      "name": "python",
      "nbconvert_exporter": "python",
      "pygments_lexer": "ipython3",
      "version": "3.9.4"
    }
  },
  "nbformat": 4,
  "nbformat_minor": 0
}
