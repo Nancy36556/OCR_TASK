{
 "cells": [
  {
   "cell_type": "code",
   "execution_count": 1,
   "metadata": {},
   "outputs": [],
   "source": [
    "import cv2\n",
    "import numpy as np\n",
    "from sklearn.svm import SVC\n",
    "import os"
   ]
  },
  {
   "cell_type": "markdown",
   "metadata": {},
   "source": [
    "# feature_Extraction"
   ]
  },
  {
   "cell_type": "code",
   "execution_count": 2,
   "metadata": {},
   "outputs": [],
   "source": [
    "def extract_features_arabic_numbers(image):\n",
    "  #Extracts features from an image of Arabic numbers.\n",
    "  grayscale = cv2.cvtColor(image, cv2.COLOR_BGR2GRAY)\n",
    "  thresholded = cv2.threshold(grayscale, 0, 255, cv2.THRESH_BINARY_INV | cv2.THRESH_OTSU)[1]\n",
    "  contours, _ = cv2.findContours(thresholded, cv2.RETR_EXTERNAL, cv2.CHAIN_APPROX_SIMPLE)\n",
    "  features = []\n",
    "  for contour in contours:\n",
    "    bounding_box = cv2.boundingRect(contour)\n",
    "    x, y, w, h = bounding_box\n",
    "    features.append((x, y, w, h))\n",
    "    features.append(cv2.mean(thresholded[y:y+h, x:x+w]))\n",
    "  return features"
   ]
  },
  {
   "cell_type": "markdown",
   "metadata": {},
   "source": [
    "# load_dataset"
   ]
  },
  {
   "cell_type": "code",
   "execution_count": 7,
   "metadata": {},
   "outputs": [],
   "source": [
    "def load_data(txt_file, image_dir):\n",
    "  #Loads the data from the txt file and image directory.\n",
    "  data = []\n",
    "  with open(txt_file, 'r') as f:\n",
    "    for line in f:\n",
    "      image_name, label = line.strip().split('/')\n",
    "      image = cv2.imread(os.path.join(image_dir, image_name))\n",
    "      features = extract_features_arabic_numbers(image)\n",
    "      data.append((features, label))\n",
    "  return data"
   ]
  },
  {
   "cell_type": "markdown",
   "metadata": {},
   "source": [
    "# training"
   ]
  },
  {
   "cell_type": "code",
   "execution_count": 8,
   "metadata": {},
   "outputs": [],
   "source": [
    "def train_model(data):\n",
    "  # Trains the SVM model on the data.\n",
    "  features = []\n",
    "  labels = []\n",
    "  for (features_instance, label) in data:\n",
    "    features.append(features_instance)\n",
    "    labels.append(label)\n",
    "  svm_model = SVC(kernel='linear', C=1)\n",
    "  svm_model.fit(features, labels)\n",
    "  return svm_model\n"
   ]
  },
  {
   "cell_type": "markdown",
   "metadata": {},
   "source": [
    "# prediction"
   ]
  },
  {
   "cell_type": "code",
   "execution_count": 9,
   "metadata": {},
   "outputs": [],
   "source": [
    "def predict(model, image):\n",
    "  #Predicts the text in an image of Arabic numbers using the model.\n",
    "  features = extract_features_arabic_numbers(image)\n",
    "  prediction = model.predict(features)\n",
    "  return prediction[0]"
   ]
  },
  {
   "cell_type": "markdown",
   "metadata": {},
   "source": [
    "# Main"
   ]
  },
  {
   "cell_type": "code",
   "execution_count": null,
   "metadata": {},
   "outputs": [],
   "source": [
    "if __name__ == '__main__':\n",
    "  txt_file = 'C:/Users/hp/OCR/project/assets/dataset/label1'\n",
    "  image_dir = 'C:/Users/hp/OCR/project/assets/data1'\n",
    "  data = load_data(txt_file, image_dir)\n",
    "  model = train_model(image_dir)\n",
    "  image_name = '0.jpg'\n",
    "  image = cv2.imread(os.path.join(image_dir, image_name))\n",
    "  prediction = predict(model, image)\n",
    "  print('The text in the image is:', prediction)"
   ]
  },
  {
   "cell_type": "markdown",
   "metadata": {},
   "source": [
    "# save model"
   ]
  },
  {
   "cell_type": "code",
   "execution_count": null,
   "metadata": {},
   "outputs": [],
   "source": [
    "model.save('model/SVC_OCR_Model.h5')"
   ]
  }
 ],
 "metadata": {
  "kernelspec": {
   "display_name": "Python 3",
   "language": "python",
   "name": "python3"
  },
  "language_info": {
   "codemirror_mode": {
    "name": "ipython",
    "version": 3
   },
   "file_extension": ".py",
   "mimetype": "text/x-python",
   "name": "python",
   "nbconvert_exporter": "python",
   "pygments_lexer": "ipython3",
   "version": "3.9.4"
  },
  "orig_nbformat": 4
 },
 "nbformat": 4,
 "nbformat_minor": 2
}
