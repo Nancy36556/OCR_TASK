{
 "cells": [
  {
   "cell_type": "code",
   "execution_count": 7,
   "metadata": {},
   "outputs": [
    {
     "name": "stdout",
     "output_type": "stream",
     "text": [
      "<class 'numpy.ndarray'>\n",
      "(80, 500, 3)\n",
      "<class 'tuple'>\n"
     ]
    }
   ],
   "source": [
    "import cv2\n",
    "\n",
    "im = cv2.imread('19972.jpg')\n",
    "\n",
    "print(type(im))\n",
    "# <class 'numpy.ndarray'>\n",
    "\n",
    "print(im.shape)\n",
    "print(type(im.shape))"
   ]
  },
  {
   "cell_type": "code",
   "execution_count": null,
   "metadata": {},
   "outputs": [],
   "source": [
    "import cv2\n",
    "import numpy as np\n",
    "import os\n",
    "def threshold_dataset(dataset_path):\n",
    "  thresholded_images = []\n",
    "\n",
    "  for image_file in os.listdir(dataset_path):\n",
    "    image = cv2.imread(os.path.join(dataset_path, image_file))\n",
    "    grayscale_image = cv2.cvtColor(image, cv2.COLOR_BGR2GRAY)\n",
    "    thresholded_image = cv2.threshold(grayscale_image, 127, 255, cv2.THRESH_BINARY)\n",
    "    thresholded_images.append(thresholded_image)\n",
    "\n",
    "  return thresholded_images\n",
    "\n",
    "if __name__ == \"__main__\":\n",
    "  dataset_path = \"C:\\Users\\hp\\OCR\\project\\assets\\data1\"\n",
    "  thresholded_images = np.array(threshold_dataset(dataset_path))\n",
    "\n",
    "  for thresholded_image in thresholded_images:\n",
    "    cv2.imshow(\"Thresholded Image\", thresholded_image)\n",
    "    cv2.waitKey(0)\n"
   ]
  }
 ],
 "metadata": {
  "kernelspec": {
   "display_name": "Python 3",
   "language": "python",
   "name": "python3"
  },
  "language_info": {
   "codemirror_mode": {
    "name": "ipython",
    "version": 3
   },
   "file_extension": ".py",
   "mimetype": "text/x-python",
   "name": "python",
   "nbconvert_exporter": "python",
   "pygments_lexer": "ipython3",
   "version": "3.9.4"
  },
  "orig_nbformat": 4
 },
 "nbformat": 4,
 "nbformat_minor": 2
}
